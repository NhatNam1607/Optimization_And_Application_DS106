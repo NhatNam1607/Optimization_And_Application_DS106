{
  "nbformat": 4,
  "nbformat_minor": 0,
  "metadata": {
    "colab": {
      "name": "19521872_BaiThucHanh2.ipynb",
      "provenance": [],
      "collapsed_sections": [
        "EfLxBNJ9g3gg",
        "F2I39RUrdFcX",
        "co-ZI8k1dUFX",
        "VYUaDEvsf3Xc",
        "DPR7I_Mehmq4",
        "r00zCNjWh2K4",
        "yHXXUvRWh9Sw",
        "7kkjBZrnbwQ8",
        "4xdsouWTccqk",
        "MDdySH5Adty8",
        "Vk8qDBqXeBrj"
      ]
    },
    "kernelspec": {
      "name": "python3",
      "display_name": "Python 3"
    },
    "language_info": {
      "name": "python"
    },
    "accelerator": "GPU"
  },
  "cells": [
    {
      "cell_type": "markdown",
      "metadata": {
        "id": "1K8CRgyHXe8v"
      },
      "source": [
        "## BÀI THỰC HÀNH 2: CÁC KỸ THUẬT TỐI ƯU HOÁ MÔ HÌNH\n",
        "## MSSV:19521872.\n",
        "## Họ Tên:Trần Nhật Nam."
      ]
    },
    {
      "cell_type": "markdown",
      "metadata": {
        "id": "F2I39RUrdFcX"
      },
      "source": [
        "## Câu 1: Thực hiện huấn luyện mô hình mạng neural ở Mục 3 trên bộ dữ liệu MNIST. "
      ]
    },
    {
      "cell_type": "code",
      "source": [
        "import tensorflow as tf\n",
        "import math\n",
        "\n",
        "\n",
        "class AngularGrad(tf.keras.optimizers.Optimizer):\n",
        "  def __init__(\n",
        "      self,\n",
        "      method_angle: str = \"cos\",\n",
        "      learning_rate=1e-3,\n",
        "      beta_1=0.9,\n",
        "      beta_2=0.999,\n",
        "      eps=1e-7,\n",
        "      name: str = \"AngularGrad\",\n",
        "      **kwargs,\n",
        "  ):\n",
        "    super().__init__(name, **kwargs)\n",
        "\n",
        "    self.method_angle = method_angle\n",
        "    self._set_hyper(\"learning_rate\", kwargs.get(\"lr\", learning_rate))\n",
        "    self._set_hyper(\"beta_1\", beta_1)\n",
        "    self._set_hyper(\"beta_2\", beta_2)\n",
        "    self._set_hyper(\"eps\", eps)\n",
        "    self.eps = eps or tf.keras.backend.epsilon()\n",
        "\n",
        "  def _create_slots(self, var_list):\n",
        "    for var in var_list:\n",
        "      self.add_slot(var, \"exp_avg\")\n",
        "      self.add_slot(var, \"exp_avg_sq\")\n",
        "      self.add_slot(var, \"previous_grad\")\n",
        "      self.add_slot(var, \"min\", initializer=tf.keras.initializers.Constant(value=math.pi / 2))\n",
        "      self.add_slot(var, \"final_angle_function_theta\")\n",
        "\n",
        "  def _resource_apply_dense(self, grad, var):\n",
        "    var_dtype = var.dtype.base_dtype\n",
        "\n",
        "    lr = self._get_hyper(\"learning_rate\", var_dtype)\n",
        "    beta_1 = self._get_hyper(\"beta_1\", var_dtype)\n",
        "    beta_2 = self._get_hyper(\"beta_2\", var_dtype)\n",
        "    eps = self._get_hyper(\"eps\", var_dtype)\n",
        "\n",
        "    exp_avg = self.get_slot(var, \"exp_avg\")\n",
        "    exp_avg_sq = self.get_slot(var, \"exp_avg_sq\")\n",
        "    previous_grad = self.get_slot(var, \"previous_grad\")\n",
        "    min = self.get_slot(var, \"min\")\n",
        "    final_angle_function_theta = self.get_slot(var, \"final_angle_function_theta\")\n",
        "\n",
        "    step = tf.cast(self.iterations + 1, var_dtype)\n",
        "    beta_1_power = tf.pow(beta_1, step)\n",
        "    beta_2_power = tf.pow(beta_2, step)\n",
        "\n",
        "    new_exp_avg = exp_avg.assign(\n",
        "        beta_1 * exp_avg + (1.0 - beta_1) * grad,\n",
        "        use_locking=self._use_locking\n",
        "    )\n",
        "    exp_avg_corrected = new_exp_avg / (1.0 - beta_1_power)\n",
        "\n",
        "    new_exp_avg_sq = exp_avg_sq.assign(\n",
        "        beta_2 * exp_avg_sq + (1.0 - beta_2) * tf.square(grad),\n",
        "        use_locking=self._use_locking,\n",
        "    )\n",
        "    exp_avg_sq_corrected = new_exp_avg_sq / (1.0 - beta_2_power)\n",
        "\n",
        "    tan_theta = tf.abs((previous_grad - grad) / (1 + previous_grad * grad))\n",
        "    cos_theta = 1 / tf.sqrt(1 + tf.square(tan_theta))\n",
        "\n",
        "    angle = tf.atan(tan_theta) * (180 / math.pi)\n",
        "    ans = tf.greater(angle, min)\n",
        "    mean_ans = tf.reduce_mean(tf.cast(ans, tf.float32))\n",
        "\n",
        "    def true_fn():\n",
        "      new_min = min.assign(angle, use_locking=self._use_locking)\n",
        "      new_final_angle_function_theta = final_angle_function_theta.assign(\n",
        "          tf.identity(tan_theta if self.method_angle == \"tan\" else cos_theta),\n",
        "          use_locking=self._use_locking\n",
        "      )\n",
        "      return new_min, new_final_angle_function_theta\n",
        "\n",
        "    def false_fn():\n",
        "      return min, final_angle_function_theta\n",
        "\n",
        "    new_min, new_final_angle_function_theta = tf.cond(tf.less(mean_ans, 0.5), true_fn, false_fn)\n",
        "    angular_coeff = tf.tanh(tf.abs(final_angle_function_theta)) * 0.5 + 0.5\n",
        "\n",
        "    var_update = var.assign_sub(\n",
        "        lr * exp_avg_corrected * angular_coeff / (tf.sqrt(exp_avg_sq_corrected) + eps),\n",
        "        use_locking=self._use_locking\n",
        "    )\n",
        "\n",
        "    new_previous_grad = previous_grad.assign(grad, use_locking=self._use_locking)\n",
        "\n",
        "    updates = [var_update, new_exp_avg, new_exp_avg_sq, new_min, new_previous_grad, new_final_angle_function_theta]\n",
        "    return tf.group(*updates)\n",
        "\n",
        "  def _resource_apply_sparse(self, grad, var, indices):\n",
        "    raise NotImplementedError\n",
        "\n",
        "  def get_config(self):\n",
        "    config = super().get_config()\n",
        "    config.update(\n",
        "        {\n",
        "            \"learning_rate\": self._serialize_hyperparameter(\"learning_rate\"),\n",
        "            \"beta_1\": self._serialize_hyperparameter(\"beta_1\"),\n",
        "            \"beta_2\": self._serialize_hyperparameter(\"beta_2\"),\n",
        "            \"eps\": self._serialize_hyperparameter(\"eps\")\n",
        "        }\n",
        "    )\n",
        "    return config"
      ],
      "metadata": {
        "id": "LLp0yJZgqYVn"
      },
      "execution_count": 43,
      "outputs": []
    },
    {
      "cell_type": "code",
      "source": [
        "# import ảnh.\n",
        "import tensorflow as tf\n",
        "fashion_mnist = tf.keras.datasets.fashion_mnist\n",
        "(train_images, train_labels), (test_images, test_labels) = fashion_mnist.load_data()\n",
        "train_images = train_images / 255.0\n",
        "test_images = test_images / 255.0\n"
      ],
      "metadata": {
        "id": "sgQd3rtnfJwL"
      },
      "execution_count": 51,
      "outputs": []
    },
    {
      "cell_type": "code",
      "source": [
        "# Xây dựng mô hình.\n",
        "model = tf.keras.Sequential([\n",
        "    tf.keras.layers.Flatten(input_shape=(28, 28)),\n",
        "    tf.keras.layers.Dense(128, activation=\"relu\"),\n",
        "    tf.keras.layers.Dense(10)\n",
        "])\n",
        "\n",
        "# AngularGrad(cos)\n",
        "optimizer = AngularGrad(\"cos\")\n",
        "\n",
        "# AngularGrad(tan)\n",
        "# optimizer = AngularGrad(\"tan\")\n",
        "\n",
        "model.compile(optimizer=optimizer,\n",
        "              loss=tf.keras.losses.SparseCategoricalCrossentropy(from_logits=True),\n",
        "              metrics=[\"accuracy\"])\n",
        "\n",
        "history= model.fit(train_images, train_labels, validation_split =0.2, epochs=10)\n",
        "\n",
        "test_loss, test_acc = model.evaluate(test_images,  test_labels, verbose=2)\n",
        "print(\"\\nTest accuracy:\", test_acc)"
      ],
      "metadata": {
        "colab": {
          "base_uri": "https://localhost:8080/"
        },
        "id": "m-G2jP58foSz",
        "outputId": "3578a93c-1814-4dff-b0ee-90ab5f831d8b"
      },
      "execution_count": 54,
      "outputs": [
        {
          "output_type": "stream",
          "name": "stdout",
          "text": [
            "Epoch 1/10\n",
            "1500/1500 [==============================] - 11s 6ms/step - loss: 0.5278 - accuracy: 0.8161 - val_loss: 0.4605 - val_accuracy: 0.8385\n",
            "Epoch 2/10\n",
            "1500/1500 [==============================] - 8s 5ms/step - loss: 0.3968 - accuracy: 0.8581 - val_loss: 0.3859 - val_accuracy: 0.8626\n",
            "Epoch 3/10\n",
            "1500/1500 [==============================] - 8s 5ms/step - loss: 0.3527 - accuracy: 0.8722 - val_loss: 0.3515 - val_accuracy: 0.8727\n",
            "Epoch 4/10\n",
            "1500/1500 [==============================] - 8s 5ms/step - loss: 0.3265 - accuracy: 0.8817 - val_loss: 0.3526 - val_accuracy: 0.8737\n",
            "Epoch 5/10\n",
            "1500/1500 [==============================] - 8s 5ms/step - loss: 0.3075 - accuracy: 0.8871 - val_loss: 0.3371 - val_accuracy: 0.8823\n",
            "Epoch 6/10\n",
            "1500/1500 [==============================] - 9s 6ms/step - loss: 0.2905 - accuracy: 0.8923 - val_loss: 0.3409 - val_accuracy: 0.8788\n",
            "Epoch 7/10\n",
            "1500/1500 [==============================] - 8s 5ms/step - loss: 0.2800 - accuracy: 0.8964 - val_loss: 0.3331 - val_accuracy: 0.8837\n",
            "Epoch 8/10\n",
            "1500/1500 [==============================] - 8s 5ms/step - loss: 0.2687 - accuracy: 0.9012 - val_loss: 0.3334 - val_accuracy: 0.8829\n",
            "Epoch 9/10\n",
            "1500/1500 [==============================] - 10s 7ms/step - loss: 0.2585 - accuracy: 0.9041 - val_loss: 0.3254 - val_accuracy: 0.8823\n",
            "Epoch 10/10\n",
            "1500/1500 [==============================] - 8s 5ms/step - loss: 0.2484 - accuracy: 0.9076 - val_loss: 0.3209 - val_accuracy: 0.8869\n",
            "313/313 - 1s - loss: 0.3468 - accuracy: 0.8765 - 882ms/epoch - 3ms/step\n",
            "\n",
            "Test accuracy: 0.8765000104904175\n"
          ]
        }
      ]
    },
    {
      "cell_type": "code",
      "metadata": {
        "colab": {
          "base_uri": "https://localhost:8080/",
          "height": 295
        },
        "id": "HOB5M5xCbjTh",
        "outputId": "fadec3a0-9e70-4feb-c21d-2c107c7ede4f"
      },
      "source": [
        "import matplotlib.pyplot as plt\n",
        "plt.plot(history.history['accuracy'])\n",
        "plt.plot(history.history['val_accuracy'])\n",
        "plt.title('model accuracy')\n",
        "plt.ylabel('accuracy')\n",
        "plt.xlabel('epoch')\n",
        "plt.legend(['train', 'test'], loc='upper left')\n",
        "plt.show()"
      ],
      "execution_count": 55,
      "outputs": [
        {
          "output_type": "display_data",
          "data": {
            "image/png": "[encoded data removed]",
            "text/plain": [
              "<Figure size 432x288 with 1 Axes>"
            ]
          },
          "metadata": {
            "needs_background": "light"
          }
        }
      ]
    },
    {
      "cell_type": "code",
      "metadata": {
        "colab": {
          "base_uri": "https://localhost:8080/",
          "height": 295
        },
        "id": "a_qH3COabkQG",
        "outputId": "7c6c71ff-ac37-4db0-a588-c618420cf22b"
      },
      "source": [
        "plt.plot(history.history['loss'])\n",
        "plt.plot(history.history['val_loss'])\n",
        "plt.title('model loss')\n",
        "plt.ylabel('loss')\n",
        "plt.xlabel('epoch')\n",
        "plt.legend(['train', 'test'], loc='upper left')\n",
        "plt.show()\n"
      ],
      "execution_count": 56,
      "outputs": [
        {
          "output_type": "display_data",
          "data": {
            "image/png": "[encoded data removed]",
            "text/plain": [
              "<Figure size 432x288 with 1 Axes>"
            ]
          },
          "metadata": {
            "needs_background": "light"
          }
        }
      ]
    }
  ]
}